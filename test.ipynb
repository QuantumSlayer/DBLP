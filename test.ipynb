{
 "cells": [
  {
   "cell_type": "code",
   "execution_count": 1,
   "metadata": {},
   "outputs": [],
   "source": [
    "import requests\n",
    "import re\n",
    "from bs4 import BeautifulSoup\n",
    "\n",
    "headers = {\"User-Agent\": \"Mozilla/5.0 (Windows NT 10.0; Win64; x64) AppleWebKit/537.36 (KHTML, like Gecko) Chrome/98.0.4758.102 Safari/537.36\"}\n",
    "url = \"https://dblp.org/\"\n",
    "search_url = \"https://dblp.org/search/author\"\n",
    "proxy = \"http://127.0.0.1:7890\""
   ]
  },
  {
   "cell_type": "code",
   "execution_count": 2,
   "metadata": {},
   "outputs": [],
   "source": [
    "class DBLP(object):\n",
    "\n",
    "    def __init__(self):\n",
    "        self.session = requests.Session()\n",
    "        self.session.headers = headers\n",
    "        self.proxy = None\n",
    "\n",
    "    def set_proxy(self, proxy):\n",
    "        self.proxy = {\n",
    "            \"http\": proxy,\n",
    "            \"https\": proxy\n",
    "        }\n",
    "    \n",
    "    def _get_soup(self, *args, **kwargs):\n",
    "        if self.proxy:\n",
    "            response = self.session.get(proxies=self.proxy, *args, **kwargs)\n",
    "        else:\n",
    "            response = self.session.get(*args, **kwargs)\n",
    "        if response.status_code != 200:\n",
    "            raise Exception(\"Failed to fetch webpage with status code \" + str(response.status_code))\n",
    "        return BeautifulSoup(response.content, \"lxml\")\n",
    "    \n",
    "    def retrieve_from_search(self, query):\n",
    "        params = {\"q\": query}\n",
    "        res = self._get_soup(search_url, params=params)\n",
    "        author_list = res.find_all(\"a\", href=re.compile(\"https://dblp.org/pid\"))\n",
    "        author = []\n",
    "        if len(author_list):\n",
    "            for entry in author_list:\n",
    "                author.append((entry.get_text(), entry.get(\"href\")))\n",
    "            return author\n",
    "        else:\n",
    "            raise Exception(\"No matches\")\n",
    "    \n",
    "    def select_author(self, author):\n",
    "        num = len(author)\n",
    "        print(str(num) + \" author(s) found\")\n",
    "        for i, j in enumerate(author):\n",
    "            print(str(i+1) + \": \" + j[0] + \", link: \" + j[1])\n",
    "        select = int(input(\"Please select the author to download: \"))\n",
    "        if 1 <= select <= num:\n",
    "            return author[select-1][1]\n",
    "        else:\n",
    "            raise Exception(\"Invalid value for selection\")\n",
    "    \n",
    "    def download_list(self, select):\n",
    "        response = self.session._get_soup(select)\n",
    "    "
   ]
  },
  {
   "cell_type": "code",
   "execution_count": 4,
   "metadata": {},
   "outputs": [
    {
     "name": "stdout",
     "output_type": "stream",
     "text": [
      "8 author(s) found\n",
      "1: Ya-Qin Zhang, link: https://dblp.org/pid/09/2187\n",
      "2: Ya-qin Zhang, link: https://dblp.org/pid/136/7647\n",
      "3: Qin-Yan Zhang, link: https://dblp.org/pid/243/6931\n",
      "4: Ya-Qin Zhang, link: https://dblp.org/pid/09/2187\n",
      "5: Ya-qin Zhang, link: https://dblp.org/pid/136/7647\n",
      "6: Yan-Qin Zhang, link: https://dblp.org/pid/310/6292\n",
      "7: Yan-qin Zhang, link: https://dblp.org/pid/63/10187\n",
      "8: Yanqing Zhang, link: https://dblp.org/pid/z/YanqingZhang\n"
     ]
    }
   ],
   "source": [
    "dblp = DBLP()\n",
    "dblp.set_proxy(proxy)\n",
    "authors = dblp.retrieve_from_search(\"Ya-qin Zhang\")\n",
    "author = dblp.select_author(authors)"
   ]
  }
 ],
 "metadata": {
  "interpreter": {
   "hash": "fa08476c79a14107fff6c30a61c56e3cfd7a111c8dc4c8fc938621cbf6ddb6b6"
  },
  "kernelspec": {
   "display_name": "Python 3.9.7 ('base')",
   "language": "python",
   "name": "python3"
  },
  "language_info": {
   "codemirror_mode": {
    "name": "ipython",
    "version": 3
   },
   "file_extension": ".py",
   "mimetype": "text/x-python",
   "name": "python",
   "nbconvert_exporter": "python",
   "pygments_lexer": "ipython3",
   "version": "3.9.7"
  },
  "orig_nbformat": 4
 },
 "nbformat": 4,
 "nbformat_minor": 2
}
